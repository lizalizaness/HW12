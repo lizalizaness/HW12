{
 "cells": [
  {
   "cell_type": "code",
   "execution_count": 5,
   "id": "3e1216f8-d5dd-4661-88ce-2b6a2a32fa31",
   "metadata": {
    "tags": []
   },
   "outputs": [
    {
     "name": "stdout",
     "output_type": "stream",
     "text": [
      "Number of png pictures on the link is: 29\n"
     ]
    }
   ],
   "source": [
    "import requests\n",
    "url = \"https://gsom.spbu.ru/en/\"\n",
    "response = requests.get(url)\n",
    "content = response.text\n",
    "png_count = content.count('.png')\n",
    "print(f\"Number of png pictures on the link is: {png_count}\")"
   ]
  },
  {
   "cell_type": "code",
   "execution_count": null,
   "id": "afac19b3-7e10-4997-9ac5-1988a132ab73",
   "metadata": {},
   "outputs": [],
   "source": []
  }
 ],
 "metadata": {
  "kernelspec": {
   "display_name": "Python 3 (ipykernel)",
   "language": "python",
   "name": "python3"
  },
  "language_info": {
   "codemirror_mode": {
    "name": "ipython",
    "version": 3
   },
   "file_extension": ".py",
   "mimetype": "text/x-python",
   "name": "python",
   "nbconvert_exporter": "python",
   "pygments_lexer": "ipython3",
   "version": "3.10.9"
  }
 },
 "nbformat": 4,
 "nbformat_minor": 5
}
